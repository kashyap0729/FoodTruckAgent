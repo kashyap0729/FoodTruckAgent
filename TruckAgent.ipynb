{
 "metadata": {
  "kernelspec": {
   "display_name": "Streamlit Notebook",
   "name": "streamlit"
  },
  "lastEditStatus": {
   "notebookId": "oimollhoujl4mgo7jn7n",
   "authorId": "3610607168676",
   "authorName": "KASHYAP0729",
   "authorEmail": "kashyapmrc@gmail.com",
   "sessionId": "2fb7362c-6d60-4ac7-b194-bd029d0f2eee",
   "lastEditTime": 1743604045695
  }
 },
 "nbformat_minor": 5,
 "nbformat": 4,
 "cells": [
  {
   "cell_type": "markdown",
   "id": "beafe711-0ff7-4aa6-bd2d-d58ffc95bb92",
   "metadata": {
    "collapsed": false,
    "name": "OVERVIEW_MD",
    "resultHeight": 339
   },
   "source": "# Gaining insights from Unstructured Data with Snowflake Cortex AI\n\nTasty Bytes is a global food truck network operating in 15 countries with fleet of 450 trucks. They collect customer reviews to get customer feedback on their food-trucks which come in from multiple sources and span multiple languages. \nThis enables them to better understand the areas which require improvement and drive up customer loyalty along with satisfaction. \n\nIn this notebook, we will look at how we analyze these collated customer reviews using Snowflake Cortex to understand :\n  * What our international customers are saying with Cortex **Translate**\n  * Get a summary of what customers are saying with Cortex **Summary**\n  * Classify reviews to determine if they would recommend a food truck with Cortex **ClassifyText**\n  * Gain specific insights with Cortex **Complete**\n  * Understand how customers are feeling with Cortex **Sentiment**"
  },
  {
   "cell_type": "markdown",
   "id": "ec42fdf2-de02-4e89-ae78-d4316f2dd09c",
   "metadata": {
    "collapsed": false,
    "name": "COUNT_REVIEWS_MD",
    "resultHeight": 41
   },
   "source": "Lets see how many reviews we have."
  },
  {
   "cell_type": "code",
   "execution_count": null,
   "id": "12220c10-ff2d-4d95-af0e-fc8135efaf99",
   "metadata": {
    "codeCollapsed": false,
    "collapsed": false,
    "language": "sql",
    "name": "COUNT_REVIEWS",
    "resultHeight": 0
   },
   "outputs": [],
   "source": [
    "SELECT COUNT(*) FROM TRUCK_REVIEWS_V;"
   ]
  },
  {
   "cell_type": "markdown",
   "id": "4db3f281-4a3d-48a5-b07e-3e967ea5a824",
   "metadata": {
    "collapsed": false,
    "name": "IMPORT_PACKAGES_MD",
    "resultHeight": 134
   },
   "source": "**Import python packages**\n\nSnowflake Notebooks include Streamlit and the third-party packages listed in the Snowflake Anaconda channel.  \nInstalling a package is made easy by enabling user to select required pacakges from a list of available pacakges under Packages on the top right corner.  \nOnce installed, we can import installed packages as we would in any other notebook."
  },
  {
   "cell_type": "code",
   "execution_count": null,
   "id": "3775908f-ca36-4846-8f38-5adca39217f2",
   "metadata": {
    "collapsed": false,
    "language": "python",
    "name": "IMPORT_PACKAGES",
    "resultHeight": 0,
    "codeCollapsed": false
   },
   "outputs": [],
   "source": "# Import python packages\nimport streamlit as st\nimport pandas as pd\n\n# Snowpark\nfrom snowflake.snowpark.context import get_active_session\nimport snowflake.snowpark.functions as F\nfrom snowflake.snowpark.functions import when, date_part\nfrom snowflake.snowpark.window import Window\n\n# Cortex Functions\nimport snowflake.cortex  as cortex\n\nsession = get_active_session()\n# Add a query tag to the session.\nsession.query_tag = {\"origin\":\"sf_sit-is\", \n                     \"name\":\"voc\", \n                     \"version\":{\"major\":1, \"minor\":0},\n                     \"attributes\":{\"is_quickstart\":1, \"source\":\"notebook\", \"vignette\":\"customer_reviews\"}}\n"
  },
  {
   "cell_type": "markdown",
   "id": "ba1549f9-f4d0-447d-b447-4927a17e5d56",
   "metadata": {
    "collapsed": false,
    "name": "PREVIEW_REVIEWS_MD",
    "resultHeight": 41
   },
   "source": "Lets preview the reviews"
  },
  {
   "cell_type": "code",
   "execution_count": null,
   "id": "4a2f5851-3b19-41b1-81a3-73f82b9c0966",
   "metadata": {
    "collapsed": false,
    "language": "python",
    "name": "PREVIEW_REVIEWS",
    "resultHeight": 351,
    "codeCollapsed": false
   },
   "outputs": [],
   "source": "reviews_df = session.table('TRUCK_REVIEWS_V') \\\n             .filter(date_part(\"year\", F.col('DATE')) == 2024)\nreviews_df"
  },
  {
   "cell_type": "markdown",
   "id": "214db186-a7d5-49ba-a428-6c335199741c",
   "metadata": {
    "collapsed": false,
    "name": "CORTEX_INTRO_MD",
    "resultHeight": 67
   },
   "source": "In the next cell, we leverage **Translate** - one of the **Snowflake Cortex specialised LLM functions** are available in Snowpark ML, to translate the multilingual reviews to english to enable easier analysis for folks who don't speak the language the original review is in."
  },
  {
   "cell_type": "code",
   "execution_count": null,
   "id": "43b8f914-e41b-433a-8544-5c20eb742dc5",
   "metadata": {
    "codeCollapsed": false,
    "collapsed": false,
    "language": "python",
    "name": "TRANSLATE",
    "resultHeight": 194
   },
   "outputs": [],
   "source": "# Conditionally translate reviews that are not english using Cortex Translate\nreviews_df = reviews_df.withColumn('TRANSLATED_REVIEW',when(F.col('LANGUAGE') != F.lit(\"en\"), \\\n                                                            cortex.translate(F.col('REVIEW'), \\\n                                                                             F.col('LANGUAGE'), \\\n                                                                             \"en\")) \\\n                                   .otherwise(F.col('REVIEW')))\n\nreviews_df.filter(F.col('LANGUAGE') != F.lit(\"en\")) \\\n.select([\"REVIEW\",\"LANGUAGE\",\"TRANSLATED_REVIEW\"]).show(3)"
  },
  {
   "cell_type": "markdown",
   "id": "651ed2ac-d1a5-48ae-836b-cb7024c759e1",
   "metadata": {
    "name": "SUMMARIZE_MD",
    "collapsed": false,
    "resultHeight": 41
   },
   "source": "We can quickly learn what our customers are saying with Cortex **Summarize**"
  },
  {
   "cell_type": "code",
   "id": "ff217432-5256-473d-a317-33fa53b01a91",
   "metadata": {
    "language": "python",
    "name": "SUMMARY_OF_REVIEW",
    "collapsed": false,
    "resultHeight": 412,
    "codeCollapsed": false
   },
   "outputs": [],
   "source": "summarized_reviews_df = session.table(\"CONCATENATED_REVIEWS\").select(\n    F.col(\"TRUCK_BRAND_NAME\"),\n    cortex.summarize(F.col(\"ALL_REVIEWS_TEXT\")).alias(\"SUMMARY\")\n)\n\nsummarized_reviews_df.select([\"TRUCK_BRAND_NAME\", \"SUMMARY\"]).show(3)",
   "execution_count": null
  },
  {
   "cell_type": "markdown",
   "id": "6bac2888-1344-4ea9-85aa-49e38afad859",
   "metadata": {
    "collapsed": false,
    "name": "CLASSIFY_TEXT_MD",
    "resultHeight": 41
   },
   "source": "We can similarly understand if a customer would recommend the food truck based on their review using Snowflake Cortex **ClassifyText**"
  },
  {
   "cell_type": "code",
   "id": "fa98f3d4-200d-4158-bc6f-b62132238ad8",
   "metadata": {
    "language": "python",
    "name": "CLASSIFY_TEXT",
    "resultHeight": 188,
    "collapsed": false,
    "codeCollapsed": false
   },
   "outputs": [],
   "source": "# Text description to understand whether a customer would recommend food truck based on their review \ntext_description = \"\"\"\nTell me based on the following food truck customer review, will they recommend the food truck to \\\ntheir friends and family?\n\"\"\"\n\nreviews_df = reviews_df.withColumn('RECOMMEND', cortex.ClassifyText(F.col('REVIEW'),[\"Likely\",\"Unlikely\",\"Unsure\"], text_description)['label'])\n\nreviews_df.select([\"REVIEW\",\"RECOMMEND\"]).show(3)",
   "execution_count": null
  },
  {
   "cell_type": "markdown",
   "id": "7fa7fefd-0e0a-48c3-967c-ee542a08541e",
   "metadata": {
    "name": "COMPLETE_MD",
    "collapsed": false,
    "resultHeight": 41
   },
   "source": "Gaining specific insights through Cortex Complete"
  },
  {
   "cell_type": "code",
   "id": "184bf8fa-3cc1-4494-b949-720049b92b90",
   "metadata": {
    "language": "python",
    "name": "COMPLETE",
    "collapsed": false,
    "resultHeight": 188,
    "codeCollapsed": false
   },
   "outputs": [],
   "source": "question = \"What is the number one dish positively mentioned in the feedback?\"\n\nsummarized_reviews_df = session.table(\"CONCATENATED_REVIEWS\").select(\n    F.col(\"TRUCK_BRAND_NAME\"),\n    cortex.complete(\n        \"mistral-large2\",\n        F.concat(\n            F.lit(\"Context: \"),\n            F.col(\"ALL_REVIEWS_TEXT\"),\n            F.lit(f\" Question: {question} Answer briefly and concisely and only name the dish:\")\n        )\n    ).alias(\"NUMBER_ONE_DISH\")\n)\n\nsummarized_reviews_df.show(3)",
   "execution_count": null
  },
  {
   "cell_type": "markdown",
   "id": "90e8df6d-4bf1-42b2-b6db-30d109bd69c9",
   "metadata": {
    "collapsed": false,
    "name": "SENTIMENT_MD",
    "resultHeight": 67
   },
   "source": "Next we will look at another **task specific LLM function in Cortex - Sentiment**. We utilise sentiment function to understand customer's tone based on the review they provided. Sentiment return value between -1 and 1 such that -1 is the most negative while 1 is the most positive.  "
  },
  {
   "cell_type": "code",
   "execution_count": null,
   "id": "965c69e0-5312-4f4f-89f1-12f52c849453",
   "metadata": {
    "collapsed": false,
    "language": "python",
    "name": "CORTEX_SENTIMENT",
    "resultHeight": 188,
    "codeCollapsed": false
   },
   "outputs": [],
   "source": "# Understand the sentiment of customer review using Cortex Sentiment\nreviews_df = reviews_df.withColumn('SENTIMENT', cortex.sentiment(F.col('REVIEW')))\n\nreviews_df.select([\"REVIEW\",\"SENTIMENT\"])"
  },
  {
   "cell_type": "markdown",
   "id": "8da83a8e-d160-4e6c-9a08-fc8dd0fbcb85",
   "metadata": {
    "name": "SQL_MD",
    "collapsed": false,
    "resultHeight": 41
   },
   "source": "These robust Cortex functions seamlessly integrate with SQL, enabling powerful data processing capabilities."
  },
  {
   "cell_type": "code",
   "id": "2b1611e4-a52d-4f9d-a01a-5cc3f7cdb7dd",
   "metadata": {
    "language": "sql",
    "name": "SQL_TRANSLATE",
    "resultHeight": 182,
    "collapsed": false
   },
   "outputs": [],
   "source": "-- Add the TRANSLATED_REVIEW column with conditional translation\nWITH TRANSLATED_REVIEWS AS (\n    SELECT \n        REVIEW,\n        LANGUAGE,\n        CASE \n            WHEN LANGUAGE != 'en' THEN SNOWFLAKE.CORTEX.TRANSLATE(REVIEW, LANGUAGE, 'en') \n            ELSE REVIEW\n        END AS TRANSLATED_REVIEW\n    FROM TRUCK_REVIEWS_V\n)\n\n-- Filter rows where the LANGUAGE is not English and select the desired columns\nSELECT \n    REVIEW, \n    LANGUAGE, \n    TRANSLATED_REVIEW\nFROM TRANSLATED_REVIEWS\nWHERE LANGUAGE != 'en'\nLIMIT 3;",
   "execution_count": null
  },
  {
   "cell_type": "code",
   "id": "76ff3c22-d20c-49a2-9c10-d7e5878782d2",
   "metadata": {
    "language": "sql",
    "name": "SQL_SUMMARIZE",
    "collapsed": false,
    "resultHeight": 439,
    "codeCollapsed": false
   },
   "outputs": [],
   "source": "-- Generate summaries for each truck brand\nWITH SUMMARIZED_REVIEWS AS (\n    SELECT \n        TRUCK_BRAND_NAME,\n        SNOWFLAKE.CORTEX.SUMMARIZE(ALL_REVIEWS_TEXT) AS SUMMARY\n    FROM CONCATENATED_REVIEWS\n)\n\nSELECT * FROM SUMMARIZED_REVIEWS;",
   "execution_count": null
  },
  {
   "cell_type": "code",
   "id": "b0419487-3d8c-4842-bcad-b3edf43bb10c",
   "metadata": {
    "language": "sql",
    "name": "SQL_CLASSIFY_TEXT",
    "resultHeight": 182,
    "collapsed": false
   },
   "outputs": [],
   "source": "WITH CLASSIFIED_REVIEWS AS (\n    SELECT \n        REVIEW,\n        PARSE_JSON(SNOWFLAKE.CORTEX.CLASSIFY_TEXT(\n            REVIEW, \n            ['Likely', 'Unlikely', 'Unsure'], \n            OBJECT_CONSTRUCT('task_description', \n                'Tell me based on the following food truck customer review, will they recommend the food truck to their friends and family?'\n            )\n        )):label::TEXT AS RECOMMEND\n    FROM TRUCK_REVIEWS_V\n)\n\nSELECT * From CLASSIFIED_REVIEWS limit 3;\n",
   "execution_count": null
  },
  {
   "cell_type": "code",
   "id": "0b503e72-6e36-4407-a6e9-aebabe5efbfc",
   "metadata": {
    "language": "sql",
    "name": "SQL_COMPLETE",
    "resultHeight": 182,
    "collapsed": false
   },
   "outputs": [],
   "source": "-- Gain Learnings from a specific question\nWITH GAIN_LEARNINGS AS (\n    SELECT \n        TRUCK_BRAND_NAME,\n        SNOWFLAKE.CORTEX.COMPLETE(\n           'mistral-large2', \n           'Context:' || ALL_REVIEWS_TEXT || ' Question: What is the number one dish positively mentioned in the feedback? Answer briefly and concisely and only name the dish:'\n       ) AS NUMBER_ONE_DISH\n    FROM CONCATENATED_REVIEWS\n)\nSELECT TRUCK_BRAND_NAME, NUMBER_ONE_DISH FROM GAIN_LEARNINGS LIMIT 3;",
   "execution_count": null
  },
  {
   "cell_type": "code",
   "id": "93830f62-4c56-4b0c-9ee1-e4e520224f57",
   "metadata": {
    "language": "sql",
    "name": "SQL_SENTIMENT",
    "collapsed": false,
    "resultHeight": 182,
    "codeCollapsed": false
   },
   "outputs": [],
   "source": "SELECT \n    REVIEW, \n    SNOWFLAKE.CORTEX.SENTIMENT(REVIEW) AS SENTIMENT\nFROM TRUCK_REVIEWS_V\nLIMIT 3;\n",
   "execution_count": null
  },
  {
   "cell_type": "markdown",
   "id": "7319621f-8a73-44ef-8c15-d6181e6c1b89",
   "metadata": {
    "name": "cell1",
    "collapsed": false
   },
   "source": "StreamLit Application"
  },
  {
   "cell_type": "code",
   "id": "69bee071-c534-479a-8286-1a3c3f42eeb1",
   "metadata": {
    "language": "python",
    "name": "cell2"
   },
   "outputs": [],
   "source": "# Import python packages\nimport pandas as pd\nimport streamlit as st\nimport snowflake.cortex  as cortex\nfrom snowflake.snowpark.context import get_active_session\nimport snowflake.snowpark.functions as F\nimport snowflake.snowpark.types as T\n\n# Set Streamlit page configuration\nst.set_page_config(layout=\"wide\", initial_sidebar_state=\"expanded\")\nst.title(\":truck: Food Truck AI Support\")\nst.caption(\n    f\"\"\"Welcome! This application suggests answers to customer questions based \n    on corporate documentation and previous agent responses in support chats.\n    \"\"\"\n)\n\n# Get current credentials\nsession = get_active_session()\n\n# Constants\nCHAT_MEMORY = 20\nDOC_TABLE = \"app.vector_store\"\n\n\n# Reset chat conversation\ndef reset_conversation():\n    st.session_state.messages = [\n        {\n            \"role\": \"assistant\",\n            \"content\": \"What question do you need assistance answering?\",\n        }\n    ]\n\n\n\n\n##########################################\n#       RAG\n##########################################\ndef get_context(chat, DOC_TABLE):\n    chat_summary = summarize(chat)\n    return find_similar_doc(chat_summary, DOC_TABLE)\n\n\ndef summarize(chat):\n    summary = cortex.complete(\n        \"mistral-large\",\n        \"Provide the most recent question with essential context from this support chat: \"\n        + chat,\n    )\n    return summary.replace(\"'\", \"\")\n\n\ndef find_similar_doc(text, DOC_TABLE):\n    doc = session.sql(f\"\"\"Select input_text,\n                        source_desc,\n                        VECTOR_COSINE_SIMILARITY(chunk_embedding, SNOWFLAKE.CORTEX.EMBED_TEXT_768('e5-base-v2', '{text.replace(\"'\", \"''\")}')) as dist\n                        from {DOC_TABLE}\n                        order by dist desc\n                        limit 1\n                        \"\"\").to_pandas()\n    st.info(\"Selected Source: \" + doc[\"SOURCE_DESC\"].iloc[0])\n    return doc[\"INPUT_TEXT\"].iloc[0]\n\n##########################################\n#       Prompt Construction\n##########################################\nif \"background_info\" not in st.session_state:\n    st.session_state.background_info = (\n        session.table(\"app.documents\")\n        .select(\"raw_text\")\n        .filter(F.col(\"relative_path\") == \"tasty_bytes_who_we_are.pdf\")\n        .collect()[0][0]\n    )\n\n\ndef get_prompt(chat, context):\n    prompt = f\"\"\"Answer this new customer question sent to our support agent\n        at Tasty Bytes Food Truck Company. Use the background information\n        and provided context taken from the most relevant corporate documents\n        or previous support chat logs with other customers.\n        Be concise and only answer the latest question.\n        The question is in the chat.\n        Chat: <chat> {chat} </chat>.\n        Context: <context> {context} </context>.\n        Background Info: <background_info> {st.session_state.background_info} </background_info>.\"\"\"\n    return prompt.replace(\"'\", \"\")\n\n\n##########################################\n#       Chat with LLM\n##########################################\nif \"messages\" not in st.session_state:\n    reset_conversation()\n\nif user_message := st.chat_input():\n    st.session_state.messages.append({\"role\": \"user\", \"content\": user_message})\n\nfor message in st.session_state.messages:\n    with st.chat_message(message[\"role\"]):\n        st.markdown(message[\"content\"])\n\nif st.session_state.messages[-1][\"role\"] != \"assistant\":\n    chat = str(st.session_state.messages[-CHAT_MEMORY:]).replace(\"'\", \"\")\n    with st.chat_message(\"assistant\"):\n        with st.status(\"Answering..\", expanded=True) as status:\n            st.write(\"Finding relevant documents & support chat logs...\")\n            # Get relevant information\n            context = get_context(chat, DOC_TABLE)\n            st.write(\"Using search results to answer your question...\")\n            # Ask LLM\n            prompt = get_prompt(chat, context)\n            response = cortex.complete(\"mistral-large\", prompt)\n            status.update(label=\"Complete!\", state=\"complete\", expanded=False)\n        st.markdown(response)\n    st.session_state.messages.append({\"role\": \"assistant\", \"content\": response})",
   "execution_count": null
  },
  {
   "cell_type": "code",
   "id": "b9fd5cae-22aa-426f-9fe2-81d94704b3da",
   "metadata": {
    "language": "sql",
    "name": "cell3"
   },
   "outputs": [],
   "source": "USE ROLE sysadmin;\n\n  /*--\n  • database, schema and warehouse creation\n  --*/\n\n  -- create tb_voc database\n  CREATE OR REPLACE DATABASE tb_voc;\n\n  -- create raw_pos schema\n  CREATE OR REPLACE SCHEMA tb_voc.raw_pos;\n\n  -- create raw_customer schema\n  CREATE OR REPLACE SCHEMA tb_voc.raw_support;\n\n  -- create harmonized schema\n  CREATE OR REPLACE SCHEMA tb_voc.harmonized;\n\n  -- create analytics schema\n  CREATE OR REPLACE SCHEMA tb_voc.analytics;\n\n  -- create tasty_ds_wh warehouse\n  CREATE OR REPLACE WAREHOUSE tasty_ds_wh\n      WAREHOUSE_SIZE = 'large'\n      WAREHOUSE_TYPE = 'standard'\n      AUTO_SUSPEND = 60\n      AUTO_RESUME = TRUE\n      INITIALLY_SUSPENDED = TRUE\n  COMMENT = 'data science warehouse for tasty bytes';\n\n\n  USE WAREHOUSE tasty_ds_wh;\n\n  /*--\n  • file format and stage creation\n  --*/\n\n  CREATE OR REPLACE FILE FORMAT tb_voc.public.csv_ff \n  type = 'csv';\n\n  CREATE OR REPLACE STAGE tb_voc.public.s3load\n  COMMENT = 'Quickstarts S3 Stage Connection'\n  url = 's3://sfquickstarts/tastybytes-voc/'\n  file_format = tb_voc.public.csv_ff;\n\n  /*--\n  raw zone table build \n  --*/\n\n  -- menu table build\n  CREATE OR REPLACE TABLE tb_voc.raw_pos.menu\n  (\n      menu_id NUMBER(19,0),\n      menu_type_id NUMBER(38,0),\n      menu_type VARCHAR(16777216),\n      truck_brand_name VARCHAR(16777216),\n      menu_item_id NUMBER(38,0),\n      menu_item_name VARCHAR(16777216),\n      item_category VARCHAR(16777216),\n      item_subcategory VARCHAR(16777216),\n      cost_of_goods_usd NUMBER(38,4),\n      sale_price_usd NUMBER(38,4),\n      menu_item_health_metrics_obj VARIANT\n  );\n\n  -- truck table build \n  CREATE OR REPLACE TABLE tb_voc.raw_pos.truck\n  (\n      truck_id NUMBER(38,0),\n      menu_type_id NUMBER(38,0),\n      primary_city VARCHAR(16777216),\n      region VARCHAR(16777216),\n      iso_region VARCHAR(16777216),\n      country VARCHAR(16777216),\n      iso_country_code VARCHAR(16777216),\n      franchise_flag NUMBER(38,0),\n      year NUMBER(38,0),\n      make VARCHAR(16777216),\n      model VARCHAR(16777216),\n      ev_flag NUMBER(38,0),\n      franchise_id NUMBER(38,0),\n      truck_opening_date DATE\n  );\n\n  -- order_header table build\n  CREATE OR REPLACE TABLE tb_voc.raw_pos.order_header\n  (\n      order_id NUMBER(38,0),\n      truck_id NUMBER(38,0),\n      location_id FLOAT,\n      customer_id NUMBER(38,0),\n      discount_id VARCHAR(16777216),\n      shift_id NUMBER(38,0),\n      shift_start_time TIME(9),\n      shift_end_time TIME(9),\n      order_channel VARCHAR(16777216),\n      order_ts TIMESTAMP_NTZ(9),\n      served_ts VARCHAR(16777216),\n      order_currency VARCHAR(3),\n      order_amount NUMBER(38,4),\n      order_tax_amount VARCHAR(16777216),\n      order_discount_amount VARCHAR(16777216),\n      order_total NUMBER(38,4)\n  );\n\n  -- truck_reviews table build\n  CREATE OR REPLACE TABLE tb_voc.raw_support.truck_reviews\n  (\n      order_id NUMBER(38,0),\n      language VARCHAR(16777216),\n      source VARCHAR(16777216),\n      review VARCHAR(16777216),\n      review_id NUMBER(18,0)\n  );\n\n  /*--\n  • harmonized view creation\n  --*/\n\n  -- truck_reviews_v view\n  CREATE OR REPLACE VIEW tb_voc.harmonized.truck_reviews_v\n      AS\n  SELECT DISTINCT\n      r.review_id,\n      r.order_id,\n      oh.truck_id,\n      r.language,\n      source,\n      r.review,\n      t.primary_city,\n      oh.customer_id,\n      TO_DATE(oh.order_ts) AS date,\n      m.truck_brand_name\n  FROM tb_voc.raw_support.truck_reviews r\n  JOIN tb_voc.raw_pos.order_header oh\n      ON oh.order_id = r.order_id\n  JOIN tb_voc.raw_pos.truck t\n      ON t.truck_id = oh.truck_id\n  JOIN tb_voc.raw_pos.menu m\n      ON m.menu_type_id = t.menu_type_id;\n\n  /*--\n  • analytics view creation\n  --*/\n\n  -- truck_reviews_v view\n  CREATE OR REPLACE VIEW tb_voc.analytics.truck_reviews_v\n      AS\n  SELECT * FROM harmonized.truck_reviews_v;\n\n\n  /*--\n  raw zone table load \n  --*/\n\n\n  -- menu table load\n  COPY INTO tb_voc.raw_pos.menu\n  FROM @tb_voc.public.s3load/raw_pos/menu/;\n\n  -- truck table load\n  COPY INTO tb_voc.raw_pos.truck\n  FROM @tb_voc.public.s3load/raw_pos/truck/;\n\n  -- order_header table load\n  COPY INTO tb_voc.raw_pos.order_header\n  FROM @tb_voc.public.s3load/raw_pos/order_header/;\n\n  -- truck_reviews table load\n  COPY INTO tb_voc.raw_support.truck_reviews\n  FROM @tb_voc.public.s3load/raw_support/truck_reviews/;\n\n\n  -- scale wh to medium\n  ALTER WAREHOUSE tasty_ds_wh SET WAREHOUSE_SIZE = 'Medium';\n\n\n  CREATE OR REPLACE TABLE CONCATENATED_REVIEWS AS\n  WITH RANKED_REVIEWS AS (\n      SELECT \n          TRUCK_BRAND_NAME,\n          REVIEW,\n          ROW_NUMBER() OVER (PARTITION BY TRUCK_BRAND_NAME ORDER BY REVIEW) AS ROW_NUM\n      FROM TRUCK_REVIEWS_V\n  ),\n  FILTERED_REVIEWS AS (\n      SELECT *\n      FROM RANKED_REVIEWS\n      WHERE ROW_NUM <= 20\n  ),\n  AGGREGATED_REVIEWS AS (\n      SELECT \n          TRUCK_BRAND_NAME,\n          ARRAY_AGG(REVIEW) AS ALL_REVIEWS\n      FROM FILTERED_REVIEWS\n      GROUP BY TRUCK_BRAND_NAME\n  ),\n  CONCATENATED_REVIEWS AS (\n      SELECT \n          TRUCK_BRAND_NAME,\n          ARRAY_TO_STRING(ALL_REVIEWS, ' ') AS ALL_REVIEWS_TEXT\n      FROM AGGREGATED_REVIEWS\n  )\n\n  SELECT * FROM CONCATENATED_REVIEWS;\n\n-- setup completion note\nSELECT 'Setup is complete' AS note;\n\n\n\n\n\n-- Database\nCREATE OR REPLACE DATABASE tasty_bytes_chatbot;\n\n--Schema\nCREATE OR REPLACE SCHEMA tasty_bytes_chatbot.app;\n\n--Warehouse\nCREATE OR REPLACE WAREHOUSE tasty_bytes_chatbot_wh with\nWAREHOUSE_SIZE = LARGE\nAUTO_SUSPEND = 60;\n\nCREATE OR REPLACE FILE FORMAT tasty_bytes_chatbot.app.csv_ff \nTYPE = 'csv';\n\nCREATE OR REPLACE STAGE tasty_bytes_chatbot.app.s3load\nCOMMENT = 'Quickstarts S3 Stage Connection'\nurl = 's3://sfquickstarts/tastybytes-cx/app/'\nfile_format = tasty_bytes_chatbot.app.csv_ff;\n\nCREATE OR REPLACE TABLE tasty_bytes_chatbot.app.documents (\n\tRELATIVE_PATH VARCHAR(16777216),\n\tRAW_TEXT VARCHAR(16777216)\n)\nCOMMENT = '{\"origin\":\"sf_sit-is\", \"name\":\"voc\", \"version\":{\"major\":1, \"minor\":0}, \"attributes\":{\"is_quickstart\":1, \"source\":\"streamlit\", \"vignette\":\"rag_chatbot\"}}';\n\nCOPY INTO tasty_bytes_chatbot.app.documents\nFROM @tasty_bytes_chatbot.app.s3load/documents/;\n\n-- https://docs.snowflake.com/en/sql-reference/data-types-vector#loading-and-unloading-vector-data\nCREATE OR REPLACE TABLE tasty_bytes_chatbot.app.array_table (\n  SOURCE VARCHAR(6),\n\tSOURCE_DESC VARCHAR(16777216),\n\tFULL_TEXT VARCHAR(16777216),\n\tSIZE NUMBER(18,0),\n\tCHUNK VARCHAR(16777216),\n\tINPUT_TEXT VARCHAR(16777216),\n\tCHUNK_EMBEDDING ARRAY\n);\n\nCOPY INTO tasty_bytes_chatbot.app.array_table\nFROM @tasty_bytes_chatbot.app.s3load/vector_store/;\n\nCREATE OR REPLACE TABLE tasty_bytes_chatbot.app.vector_store (\n\tSOURCE VARCHAR(6),\n\tSOURCE_DESC VARCHAR(16777216),\n\tFULL_TEXT VARCHAR(16777216),\n\tSIZE NUMBER(18,0),\n\tCHUNK VARCHAR(16777216),\n\tINPUT_TEXT VARCHAR(16777216),\n\tCHUNK_EMBEDDING VECTOR(FLOAT, 768)\n) AS\nSELECT \n  source,\n\tsource_desc,\n\tfull_text,\n\tsize,\n\tchunk,\n\tinput_text,\n  chunk_embedding::VECTOR(FLOAT, 768)\nFROM tasty_bytes_chatbot.app.array_table;\n\n\n\n",
   "execution_count": null
  }
 ]
}